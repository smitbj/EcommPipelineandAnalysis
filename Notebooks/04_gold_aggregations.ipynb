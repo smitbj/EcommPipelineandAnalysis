{
 "cells": [
  {
   "cell_type": "code",
   "execution_count": 0,
   "metadata": {
    "application/vnd.databricks.v1+cell": {
     "cellMetadata": {
      "byteLimit": 2048000,
      "rowLimit": 10000
     },
     "inputWidgets": {},
     "nuid": "51ab230d-825f-4f2f-86a8-7c3be4bc9628",
     "showTitle": false,
     "tableResultSettingsMap": {},
     "title": ""
    }
   },
   "outputs": [],
   "source": [
    "from pyspark.sql import functions as F\n",
    "from pyspark.sql.functions import col, from_unixtime\n",
    "\n",
    "gld_order_enriched = spark.readStream.table(\"ecommerce.silver.slv_order_enrich\")\n",
    "gld_order_item_enriched = spark.readStream.table(\"ecommerce.silver.slv_order_item_enrich\")\n",
    "gld_order_enriched = gld_order_enriched.withColumn(\"order_date\", from_unixtime(col(\"order_date\")/1000))\n",
    "\n",
    "\n",
    "#need to convert to static source because spark structure streaming don't allow us to perform join on strem-strem join with complate as write mode.\n",
    "\n",
    "gld_order_item_enriched = spark.table(\"ecommerce.silver.slv_order_item_enrich\")\n",
    "\n",
    "\n",
    "#gld_order_enriched.display()\n",
    "#gld_order_item_enriched.display()\n",
    "\n",
    "daily_sale = gld_order_enriched.join(gld_order_item_enriched, [\"order_id\"],'inner')\\\n",
    "    .drop(gld_order_enriched.order_id).groupBy(\"order_date\")\\\n",
    "        .agg(F.sum(col(\"price\").cast(\"double\")*col(\"quantity\").cast(\"int\")).alias(\"total_price\"))\\\n",
    "            .orderBy(col(\"total_price\").desc())\n",
    "\n",
    "\n",
    "daily_sale.writeStream\\\n",
    "    .format(\"delta\")\\\n",
    "    .option(\"checkpointLocation\", \"/Volumes/ecommerce/gold/checkpoint/DailySaleData/\")\\\n",
    "    .outputMode(\"Complete\")\\\n",
    "    .trigger(once=True)\\\n",
    "    .toTable(\"ecommerce.gold.daily_sale\")\n",
    "\n"
   ]
  },
  {
   "cell_type": "code",
   "execution_count": 0,
   "metadata": {
    "application/vnd.databricks.v1+cell": {
     "cellMetadata": {
      "byteLimit": 2048000,
      "rowLimit": 10000
     },
     "inputWidgets": {},
     "nuid": "07b6e686-7f4b-400c-a732-a1fd2b6e4a9d",
     "showTitle": false,
     "tableResultSettingsMap": {},
     "title": ""
    }
   },
   "outputs": [],
   "source": [
    "\n",
    "customer_lifetime_value = gld_order_enriched.join(gld_order_item_enriched, [\"order_id\"],'inner')\\\n",
    "    .drop(gld_order_enriched.order_id).groupBy(\"customer_unique_id\")\\\n",
    "        .agg(F.sum(col(\"price\").cast(\"double\")*col(\"quantity\").cast(\"int\")).alias(\"life_time_value\"))\\\n",
    "            .orderBy(col(\"life_time_value\"))\n",
    "\n",
    "customer_lifetime_value.writeStream\\\n",
    "    .format(\"delta\")\\\n",
    "    .option(\"checkpointLocation\",\"/Volumes/ecommerce/gold/checkpoint/customer_lifetime_value/\")\\\n",
    "    .outputMode(\"Complete\")\\\n",
    "    .trigger(once=True)\\\n",
    "    .toTable(\"ecommerce.gold.customer_lifetime_value\")\n",
    "\n",
    "\n"
   ]
  },
  {
   "cell_type": "code",
   "execution_count": 0,
   "metadata": {
    "application/vnd.databricks.v1+cell": {
     "cellMetadata": {
      "byteLimit": 2048000,
      "rowLimit": 10000
     },
     "inputWidgets": {},
     "nuid": "7b404fb0-04ca-475f-a3c4-22a6159bfc0a",
     "showTitle": false,
     "tableResultSettingsMap": {},
     "title": ""
    }
   },
   "outputs": [],
   "source": [
    "\n",
    "topproducts = gld_order_enriched.join(gld_order_item_enriched, [\"order_id\"],'inner')\\\n",
    "    .drop(gld_order_enriched.order_id).groupBy(gld_order_item_enriched.product_category_name)\\\n",
    "        .agg(F.sum(col(\"price\").cast(\"double\")*col(\"quantity\").cast(\"int\")).alias(\"total_price\"))\\\n",
    "            .orderBy(col(\"total_price\")).limit(10)\n",
    "\n",
    "topproducts.writeStream\\\n",
    "    .format(\"delta\")\\\n",
    "    .option(\"checkpointLocation\",\"/Volumes/ecommerce/gold/checkpoint/customer_lifetime_value/\")\\\n",
    "    .outputMode(\"Complete\")\\\n",
    "    .trigger(once=True)\\\n",
    "    .toTable(\"ecommerce.gold.topproducts\")"
   ]
  },
  {
   "cell_type": "code",
   "execution_count": 0,
   "metadata": {
    "application/vnd.databricks.v1+cell": {
     "cellMetadata": {
      "byteLimit": 2048000,
      "implicitDf": true,
      "rowLimit": 10000
     },
     "inputWidgets": {},
     "nuid": "241715b8-e6d8-4477-8328-a5d94ff2e7fd",
     "showTitle": false,
     "tableResultSettingsMap": {
      "0": {
       "dataGridStateBlob": "{\"version\":1,\"tableState\":{\"columnPinning\":{\"left\":[\"#row_number#\"],\"right\":[]},\"columnSizing\":{},\"columnVisibility\":{}},\"settings\":{\"columns\":{}},\"syncTimestamp\":1756552276865}",
       "filterBlob": null,
       "queryPlanFiltersBlob": null,
       "tableResultIndex": 0
      }
     },
     "title": ""
    }
   },
   "outputs": [],
   "source": [
    "%sql\n",
    "--select * from ecommerce.gold.customer_lifetime_value;\n",
    "select * from ecommerce.gold.topproducts;\n",
    "--select * from ecommerce.gold.daily_sale;"
   ]
  },
  {
   "cell_type": "code",
   "execution_count": 0,
   "metadata": {
    "application/vnd.databricks.v1+cell": {
     "cellMetadata": {},
     "inputWidgets": {},
     "nuid": "17df0ece-8dec-4733-a601-def2fe13a93e",
     "showTitle": false,
     "tableResultSettingsMap": {},
     "title": ""
    }
   },
   "outputs": [],
   "source": []
  }
 ],
 "metadata": {
  "application/vnd.databricks.v1+notebook": {
   "computePreferences": null,
   "dashboards": [],
   "environmentMetadata": {
    "base_environment": "",
    "environment_version": "3"
   },
   "inputWidgetPreferences": null,
   "language": "python",
   "notebookMetadata": {
    "mostRecentlyExecutedCommandWithImplicitDF": {
     "commandId": 5415541587091002,
     "dataframes": [
      "_sqldf"
     ]
    },
    "pythonIndentUnit": 4
   },
   "notebookName": "04_gold_aggregations",
   "widgets": {}
  },
  "language_info": {
   "name": "python"
  }
 },
 "nbformat": 4,
 "nbformat_minor": 0
}
