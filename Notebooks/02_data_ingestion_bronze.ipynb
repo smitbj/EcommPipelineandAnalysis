{
 "cells": [
  {
   "cell_type": "markdown",
   "metadata": {
    "application/vnd.databricks.v1+cell": {
     "cellMetadata": {},
     "inputWidgets": {},
     "nuid": "317f0002-6d37-4703-954b-975ff334e347",
     "showTitle": false,
     "tableResultSettingsMap": {},
     "title": ""
    }
   },
   "source": [
    "### **Ingesting the data to bronze layer using autoloader**"
   ]
  },
  {
   "cell_type": "code",
   "execution_count": 0,
   "metadata": {
    "application/vnd.databricks.v1+cell": {
     "cellMetadata": {
      "byteLimit": 2048000,
      "implicitDf": true,
      "rowLimit": 10000
     },
     "inputWidgets": {},
     "nuid": "d09ae3d1-96d5-4f28-ae3a-dfbd6cc843aa",
     "showTitle": false,
     "tableResultSettingsMap": {},
     "title": ""
    }
   },
   "outputs": [],
   "source": [
    "from pyspark.sql.functions import current_timestamp\n",
    "\n",
    "\n",
    "df_order = (spark.readStream \\\n",
    "            .format(\"cloudFiles\") \\\n",
    "            .option(\"cloudFiles.format\",\"json\") \\\n",
    "            .option(\"cloudFiles.SchemaLocation\",\"/Volumes/ecommerce/data/streaming_data/Order_checkpoint/\") \\\n",
    "            .load(\"/Volumes/ecommerce/data/streaming_data/Order/\")\n",
    "                )\n",
    "\n",
    "\n",
    "df_order_items = (spark.readStream \\\n",
    "                    .format(\"cloudFiles\") \\\n",
    "                    .option(\"cloudFiles.format\",\"json\") \\\n",
    "                    .option(\"cloudFiles.schemaLocation\",\"/Volumes/ecommerce/data/streaming_data/Order_items_checkpoints/\") \\\n",
    "                    .load(\"/Volumes/ecommerce/data/streaming_data/Order_items/\")\n",
    "                        )\n",
    "\n",
    "df_order = df_order.withColumn(\"LoadingTime\", current_timestamp())\n",
    "df_order_items = df_order_items.withColumn(\"LoadingTime\", current_timestamp())\n",
    "\n",
    "\n",
    "\n",
    "\n",
    "df_order.writeStream \\\n",
    "            .format(\"Delta\") \\\n",
    "            .option(\"checkpointLocation\",\"/Volumes/ecommerce/data/streaming_data/order_checkpoint/\") \\\n",
    "            .option(\"mode\",\"append\") \\\n",
    "            .trigger(once = True) \\\n",
    "            .toTable(\"ecommerce.bronze.brz_orders\") \\\n",
    "            .awaitTermination()\n",
    "\n",
    "\n",
    "df_order_items.writeStream \\\n",
    "            .format(\"delta\") \\\n",
    "            .option(\"checkpointLocation\",\"/Volumes/ecommerce/data/streaming_data/Order_items_checkpoints/\") \\\n",
    "            .option(\"mode\",\"append\") \\\n",
    "            .trigger(once = True) \\\n",
    "            .toTable(\"ecommerce.bronze.brz_order_items\") \\\n",
    "            .awaitTermination()\n",
    "\n"
   ]
  },
  {
   "cell_type": "code",
   "execution_count": 0,
   "metadata": {
    "application/vnd.databricks.v1+cell": {
     "cellMetadata": {
      "byteLimit": 2048000,
      "implicitDf": true,
      "rowLimit": 10000
     },
     "inputWidgets": {},
     "nuid": "78bb01c8-b91b-4ddb-95f5-c4894daf4872",
     "showTitle": false,
     "tableResultSettingsMap": {
      "0": {
       "dataGridStateBlob": "{\"version\":1,\"tableState\":{\"columnPinning\":{\"left\":[\"#row_number#\"],\"right\":[]},\"columnSizing\":{},\"columnVisibility\":{}},\"settings\":{\"columns\":{}},\"syncTimestamp\":1756483626082}",
       "filterBlob": null,
       "queryPlanFiltersBlob": null,
       "tableResultIndex": 0
      }
     },
     "title": ""
    }
   },
   "outputs": [],
   "source": [
    "%sql\n",
    "select * from ecommerce.bronze.brz_orders"
   ]
  },
  {
   "cell_type": "code",
   "execution_count": 0,
   "metadata": {
    "application/vnd.databricks.v1+cell": {
     "cellMetadata": {
      "byteLimit": 2048000,
      "implicitDf": true,
      "rowLimit": 10000
     },
     "inputWidgets": {},
     "nuid": "8324b8da-0239-48d5-aa7c-968f831852a0",
     "showTitle": false,
     "tableResultSettingsMap": {},
     "title": ""
    }
   },
   "outputs": [],
   "source": [
    "%sql\n",
    "select * from ecommerce.bronze.brz_order_items"
   ]
  },
  {
   "cell_type": "code",
   "execution_count": 0,
   "metadata": {
    "application/vnd.databricks.v1+cell": {
     "cellMetadata": {},
     "inputWidgets": {},
     "nuid": "f0fab093-f422-404e-90d3-18408730059e",
     "showTitle": false,
     "tableResultSettingsMap": {},
     "title": ""
    }
   },
   "outputs": [],
   "source": []
  }
 ],
 "metadata": {
  "application/vnd.databricks.v1+notebook": {
   "computePreferences": null,
   "dashboards": [],
   "environmentMetadata": {
    "base_environment": "",
    "environment_version": "3"
   },
   "inputWidgetPreferences": null,
   "language": "python",
   "notebookMetadata": {
    "mostRecentlyExecutedCommandWithImplicitDF": {
     "commandId": 6883192948863520,
     "dataframes": [
      "_sqldf"
     ]
    },
    "pythonIndentUnit": 4
   },
   "notebookName": "02_data_ingestion_bronze",
   "widgets": {}
  },
  "language_info": {
   "name": "python"
  }
 },
 "nbformat": 4,
 "nbformat_minor": 0
}
