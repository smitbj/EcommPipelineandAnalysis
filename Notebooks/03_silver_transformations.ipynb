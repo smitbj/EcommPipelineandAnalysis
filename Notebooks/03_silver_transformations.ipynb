{
 "cells": [
  {
   "cell_type": "code",
   "execution_count": 0,
   "metadata": {
    "application/vnd.databricks.v1+cell": {
     "cellMetadata": {
      "byteLimit": 2048000,
      "rowLimit": 10000
     },
     "inputWidgets": {},
     "nuid": "bea3bcc1-afc4-483c-b93d-e89b4abd1b72",
     "showTitle": false,
     "tableResultSettingsMap": {},
     "title": ""
    }
   },
   "outputs": [],
   "source": [
    "import shutil\n",
    "\n",
    "shutil.rmtree(\n",
    "    \"/Volumes/ecommerce/silver/checkpoint/order_enrich_checkpoint/\",\n",
    "    ignore_errors=True\n",
    ")\n",
    "shutil.rmtree(\n",
    "    \"/Volumes/ecommerce/silver/checkpoint/order_item_enrich_checkpoint/\",\n",
    "    ignore_errors=True\n",
    ")\n",
    "\n",
    "df_cust = spark.sql(\"select * from workspace.default.dim_customers\")\n",
    "df_prod = spark.sql(\"select * from workspace.default.dim_products\")\n",
    "df_orders = spark.readStream.table(\"ecommerce.bronze.brz_orders\")\n",
    "df_order_itmes = spark.readStream.table(\"ecommerce.bronze.brz_order_items\")\n",
    "\n",
    "\n",
    "slv_order_enrich = df_orders.join(df_cust,df_cust.customer_id == df_orders.customer_id,\"inner\")\n",
    "slv_order_item_enrich = df_order_itmes.join(df_prod,df_prod.product_id == df_order_itmes.product_id,\"inner\")\n",
    "\n",
    "slv_order_enrich = slv_order_enrich.drop(\"customer_id\")\n",
    "slv_order_item_enrich = slv_order_item_enrich.drop(\"product_id\")\n",
    "\n",
    "slv_order_enrich.writeStream\\\n",
    "    .format(\"delta\") \\\n",
    "    .option(\"checkpointLocation\",\"/Volumes/ecommerce/silver/checkpoint/order_enrich_checkpoint/\")\\\n",
    "    .option(\"mergeSchema\", \"true\")\\\n",
    "    .option(\"mode\",\"append\")\\\n",
    "    .trigger(once = True)\\\n",
    "    .table(\"ecommerce.silver.slv_order_enrich\")\\\n",
    "    .awaitTermination()\n",
    "\n",
    "slv_order_item_enrich.writeStream\\\n",
    "    .format(\"delta\")\\\n",
    "    .option(\"checkpointLocation\",\"/Volumes/ecommerce/silver/checkpoint/order_item_enrich_checkpoint/\")\\\n",
    "    .option(\"mergeSchema\", \"true\")\\\n",
    "    .option(\"mode\",\"append\")\\\n",
    "    .trigger(once = True)\\\n",
    "    .table(\"ecommerce.silver.slv_order_item_enrich\")\\\n",
    "    .awaitTermination()\n"
   ]
  },
  {
   "cell_type": "code",
   "execution_count": 0,
   "metadata": {
    "application/vnd.databricks.v1+cell": {
     "cellMetadata": {
      "byteLimit": 2048000,
      "implicitDf": true,
      "rowLimit": 10000
     },
     "inputWidgets": {},
     "nuid": "27e33206-bf82-47cf-ba2c-615ac550a5f1",
     "showTitle": false,
     "tableResultSettingsMap": {
      "0": {
       "dataGridStateBlob": "{\"version\":1,\"tableState\":{\"columnPinning\":{\"left\":[\"#row_number#\"],\"right\":[]},\"columnSizing\":{},\"columnVisibility\":{}},\"settings\":{\"columns\":{}},\"syncTimestamp\":1756491951737}",
       "filterBlob": null,
       "queryPlanFiltersBlob": null,
       "tableResultIndex": 0
      }
     },
     "title": ""
    }
   },
   "outputs": [],
   "source": [
    "%sql\n",
    "select * from ecommerce.silver.slv_order_enrich"
   ]
  },
  {
   "cell_type": "code",
   "execution_count": 0,
   "metadata": {
    "application/vnd.databricks.v1+cell": {
     "cellMetadata": {
      "byteLimit": 2048000,
      "implicitDf": true,
      "rowLimit": 10000
     },
     "inputWidgets": {},
     "nuid": "3ff3e1ca-8a87-491f-931e-e7d1bb302d30",
     "showTitle": false,
     "tableResultSettingsMap": {
      "0": {
       "dataGridStateBlob": "{\"version\":1,\"tableState\":{\"columnPinning\":{\"left\":[\"#row_number#\"],\"right\":[]},\"columnSizing\":{},\"columnVisibility\":{}},\"settings\":{\"columns\":{}},\"syncTimestamp\":1756491952223}",
       "filterBlob": null,
       "queryPlanFiltersBlob": null,
       "tableResultIndex": 0
      }
     },
     "title": ""
    }
   },
   "outputs": [],
   "source": [
    "%sql\n",
    "select * from ecommerce.silver.slv_order_item_enrich"
   ]
  },
  {
   "cell_type": "code",
   "execution_count": 0,
   "metadata": {
    "application/vnd.databricks.v1+cell": {
     "cellMetadata": {},
     "inputWidgets": {},
     "nuid": "9f36f0f4-50d9-4911-b086-cf8cfb549e0c",
     "showTitle": false,
     "tableResultSettingsMap": {},
     "title": ""
    }
   },
   "outputs": [],
   "source": []
  }
 ],
 "metadata": {
  "application/vnd.databricks.v1+notebook": {
   "computePreferences": null,
   "dashboards": [],
   "environmentMetadata": {
    "base_environment": "",
    "environment_version": "3"
   },
   "inputWidgetPreferences": null,
   "language": "python",
   "notebookMetadata": {
    "mostRecentlyExecutedCommandWithImplicitDF": {
     "commandId": 6883192948863526,
     "dataframes": [
      "_sqldf"
     ]
    },
    "pythonIndentUnit": 4
   },
   "notebookName": "03_silver_transformations",
   "widgets": {}
  },
  "language_info": {
   "name": "python"
  }
 },
 "nbformat": 4,
 "nbformat_minor": 0
}
