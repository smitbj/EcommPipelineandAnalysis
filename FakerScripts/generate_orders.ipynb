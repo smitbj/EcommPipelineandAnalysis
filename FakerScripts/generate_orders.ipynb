{
 "cells": [
  {
   "cell_type": "markdown",
   "metadata": {
    "application/vnd.databricks.v1+cell": {
     "cellMetadata": {},
     "inputWidgets": {},
     "nuid": "cd60c8cd-6743-4992-bdaa-a663562a50cf",
     "showTitle": false,
     "tableResultSettingsMap": {},
     "title": ""
    }
   },
   "source": [
    "### **Downloding Faker lib and restarting kernal**"
   ]
  },
  {
   "cell_type": "code",
   "execution_count": 0,
   "metadata": {
    "application/vnd.databricks.v1+cell": {
     "cellMetadata": {
      "byteLimit": 2048000,
      "rowLimit": 10000
     },
     "inputWidgets": {},
     "nuid": "b1307624-dc5b-4ad6-9126-b510d876f225",
     "showTitle": false,
     "tableResultSettingsMap": {},
     "title": ""
    }
   },
   "outputs": [],
   "source": [
    "#!pip install Faker"
   ]
  },
  {
   "cell_type": "code",
   "execution_count": 0,
   "metadata": {
    "application/vnd.databricks.v1+cell": {
     "cellMetadata": {
      "byteLimit": 2048000,
      "rowLimit": 10000
     },
     "inputWidgets": {},
     "nuid": "8620b0cb-9e85-4526-8cd1-d09c0413ea2b",
     "showTitle": false,
     "tableResultSettingsMap": {},
     "title": ""
    }
   },
   "outputs": [],
   "source": [
    "#%restart_python"
   ]
  },
  {
   "cell_type": "markdown",
   "metadata": {
    "application/vnd.databricks.v1+cell": {
     "cellMetadata": {},
     "inputWidgets": {},
     "nuid": "8efff628-193c-4ebb-b053-e186608e5f4b",
     "showTitle": false,
     "tableResultSettingsMap": {},
     "title": ""
    }
   },
   "source": [
    "### **Creating fake data for order and order items**"
   ]
  },
  {
   "cell_type": "code",
   "execution_count": 0,
   "metadata": {
    "application/vnd.databricks.v1+cell": {
     "cellMetadata": {
      "byteLimit": 2048000,
      "rowLimit": 10000
     },
     "inputWidgets": {},
     "nuid": "fd0ddd80-34ea-4aa8-abd9-08fdd4a6947c",
     "showTitle": false,
     "tableResultSettingsMap": {},
     "title": ""
    }
   },
   "outputs": [],
   "source": [
    "from faker import Faker\n",
    "import random\n",
    "import pandas as pd\n",
    "import time\n",
    "n = 8\n",
    "i = 0\n",
    "while(i < n):\n",
    "    df_prod = spark.read.format(\"csv\").option(\"header\",\"True\").option(\"inferSchema\",\"True\").load(\"/Volumes/ecommerce/data/raw_data/olist_products_dataset.csv\")\n",
    "    df_cust = spark.read.format(\"csv\").option(\"header\",\"True\").option(\"inferSchema\",\"True\").load(\"/Volumes/ecommerce/data/raw_data/olist_customers_dataset.csv\")\n",
    "\n",
    "    df_prod.write.format(\"delta\").mode(\"overwrite\").saveAsTable(\"dim_products\")\n",
    "    df_cust.write.format(\"delta\").mode(\"overwrite\").saveAsTable(\"dim_customers\")\n",
    "\n",
    "    faker = Faker()\n",
    "\n",
    "    products = [row[\"product_id\"] for row in spark.table(\"dim_products\").collect()]\n",
    "    customer = [row[\"customer_id\"] for row in spark.table(\"dim_customers\").collect()]\n",
    "\n",
    "    orders = []\n",
    "    for i in range(50):\n",
    "        order_id = f\"ORD-{i+1}\"\n",
    "        customer_id = random.choice(customer)\n",
    "        order_date = faker.past_date()\n",
    "        orders.append((order_id, customer_id, order_date,\"delivered\"))\n",
    "        \n",
    "    orders_df = pd.DataFrame(orders, columns=[\"order_id\", \"customer_id\", \"order_date\",\"status\"])\n",
    "    orders_df.display()\n",
    "    order_item = []\n",
    "    for order_id in orders_df[\"order_id\"]:\n",
    "        for _ in range(random.randint(1,5)):\n",
    "            product_id = random.choice(products)\n",
    "            quantity = random.randint(1,5)\n",
    "            price = round(random.uniform(1,1000),2)\n",
    "            order_item.append((order_id, product_id, quantity, price))\n",
    "            \n",
    "    order_item_df = pd.DataFrame(order_item, columns=[\"order_id\", \"product_id\", \"quantity\", \"price\"])\n",
    "\n",
    "    fileind = -1\n",
    "    file_info_list = dbutils.fs.ls(\"/Volumes/ecommerce/data/streaming_data/Order/\")\n",
    "    file_list = [file_info.name for file_info in file_info_list]\n",
    "    for filename in file_list:\n",
    "        if filename.startswith(\"batch_\"):\n",
    "            currfileind = int(filename.split(\".\")[0].split(\"_\")[1])\n",
    "            if currfileind > fileind:\n",
    "                fileind = currfileind\n",
    "\n",
    "    fileind += 1\n",
    "    print(fileind)\n",
    "    orders_df.to_json(f\"/Volumes/ecommerce/data/streaming_data/Order/batch_{fileind}.json\", orient=\"records\", lines=True)\n",
    "    order_item_df.to_json(f\"/Volumes/ecommerce/data/streaming_data/Order_items/batch_{fileind}.json\", orient=\"records\", lines=True)\n",
    "    time.sleep(10)\n",
    "    i+=1\n",
    "\n",
    "\n"
   ]
  },
  {
   "cell_type": "markdown",
   "metadata": {
    "application/vnd.databricks.v1+cell": {
     "cellMetadata": {
      "byteLimit": 2048000,
      "rowLimit": 10000
     },
     "inputWidgets": {},
     "nuid": "d6ad2c99-26c1-4464-be47-a2eef3398eb0",
     "showTitle": false,
     "tableResultSettingsMap": {},
     "title": ""
    }
   },
   "source": [
    "dbutils.fs.rm(\"/Volumes/ecommerce/data/streaming_data/Order_items/\",True)\n",
    "dbutils.fs.rm(\"/Volumes/ecommerce/data/streaming_data/order/\",True)\n",
    "dbutils.fs.mkdirs(\"/Volumes/ecommerce/data/streaming_data/Order_items/\")\n",
    "dbutils.fs.mkdirs(\"/Volumes/ecommerce/data/streaming_data/Order/\")\n",
    "\n",
    "\n",
    "dbutils.fs.rm(\"/Volumes/ecommerce/data/streaming_data/Order_items_checkpoints/\",True)\n",
    "dbutils.fs.rm(\"/Volumes/ecommerce/data/streaming_data/order_checkpoint/\",True)\n",
    "dbutils.fs.mkdirs(\"/Volumes/ecommerce/data/streaming_data/Order_items_checkpoints/\")\n",
    "dbutils.fs.mkdirs(\"/Volumes/ecommerce/data/streaming_data/Order_checkpoint/\")\n"
   ]
  },
  {
   "cell_type": "code",
   "execution_count": 0,
   "metadata": {
    "application/vnd.databricks.v1+cell": {
     "cellMetadata": {
      "byteLimit": 2048000,
      "rowLimit": 10000
     },
     "inputWidgets": {},
     "nuid": "01ff38bb-c89b-4452-8e4b-6a20088b6fa8",
     "showTitle": false,
     "tableResultSettingsMap": {},
     "title": ""
    }
   },
   "outputs": [],
   "source": [
    "from faker import Faker\n",
    "\n",
    "faker = Faker()\n",
    "\n",
    "data = faker.past_date()\n",
    "print(data)"
   ]
  },
  {
   "cell_type": "code",
   "execution_count": 0,
   "metadata": {
    "application/vnd.databricks.v1+cell": {
     "cellMetadata": {},
     "inputWidgets": {},
     "nuid": "4a90ba2d-ea3f-44ec-8874-1a470b7e89d9",
     "showTitle": false,
     "tableResultSettingsMap": {},
     "title": ""
    }
   },
   "outputs": [],
   "source": []
  }
 ],
 "metadata": {
  "application/vnd.databricks.v1+notebook": {
   "computePreferences": null,
   "dashboards": [],
   "environmentMetadata": {
    "base_environment": "",
    "environment_version": "3"
   },
   "inputWidgetPreferences": null,
   "language": "python",
   "notebookMetadata": {
    "mostRecentlyExecutedCommandWithImplicitDF": {
     "commandId": 5002695983213407,
     "dataframes": [
      "_sqldf"
     ]
    },
    "pythonIndentUnit": 4
   },
   "notebookName": "generate_orders",
   "widgets": {}
  },
  "language_info": {
   "name": "python"
  }
 },
 "nbformat": 4,
 "nbformat_minor": 0
}
